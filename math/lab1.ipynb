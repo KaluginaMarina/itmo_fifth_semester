{
 "cells": [
  {
   "cell_type": "markdown",
   "metadata": {},
   "source": [
    "# Вычисление энтропии Шеннона\n",
    "\n",
    "$$ H(x_i) = log(\\frac{1}{p(x_i)}) $$\n",
    "\n",
    "$$ H(X) = -\\sum p(x_i) log(p(x_i)) $$\n"
   ]
  },
  {
   "cell_type": "code",
   "execution_count": 43,
   "metadata": {},
   "outputs": [],
   "source": [
    "import math"
   ]
  },
  {
   "cell_type": "code",
   "execution_count": 89,
   "metadata": {},
   "outputs": [],
   "source": [
    "def print_answer(p_i, h_i, H):\n",
    "    print(f'Значение энтропии:{H}')\n",
    "    print('Символ:    Вероятность:    Энтропия:')\n",
    "    for i in p_i:\n",
    "        print(f'{i:4.4} {p_i[i]:13.4} {h_i[i]:13.4}')"
   ]
  },
  {
   "cell_type": "code",
   "execution_count": 90,
   "metadata": {},
   "outputs": [
    {
     "name": "stdout",
     "output_type": "stream",
     "text": [
      "Значение энтропии:4.283001919820726\n",
      "Символ:    Вероятность:    Энтропия:\n",
      "P          0.01785         5.808\n",
      "O          0.06809         3.876\n",
      "S          0.04761         4.393\n",
      "I          0.07197         3.796\n",
      "T          0.07844         3.672\n",
      "N          0.06818         3.875\n",
      ".          0.07661         3.706\n",
      "A          0.05796         4.109\n",
      "B         0.006827         7.195\n",
      "U          0.02057         5.603\n",
      "            0.1275         2.971\n",
      "H          0.02842         5.137\n",
      "E          0.08848         3.499\n",
      "D          0.02989         5.064\n",
      "R          0.05189         4.268\n",
      "M          0.02133         5.551\n",
      "F          0.02325         5.427\n",
      "C          0.02931         5.092\n",
      "G          0.01446         6.112\n",
      "1         0.004417         7.823\n",
      "L          0.02517         5.312\n",
      "V         0.006113         7.354\n",
      "3         0.003703         8.077\n",
      "2         0.004194         7.897\n",
      "K         0.002454         8.671\n",
      "8        0.0004908         10.99\n",
      "4          0.00174         9.167\n",
      "Y         0.008968         6.801\n",
      "0         0.001517         9.365\n",
      "5         0.001026         9.928\n",
      "Z         0.001829         9.094\n",
      "W           0.0058          7.43\n",
      "Q         0.000937         10.06\n",
      "7        0.0004908         10.99\n",
      "J        0.0004462         11.13\n",
      "9        0.0004462         11.13\n",
      "X         0.001249         9.645\n",
      "6         0.000357         11.45\n"
     ]
    }
   ],
   "source": [
    "# print(\"Введите имя файла\")\n",
    "# filename = input()\n",
    "# f = open(filename)\n",
    "\n",
    "f = open(\"./input/itmo.txt\")\n",
    "p_i = {}\n",
    "h_i = {}\n",
    "summ = 0.0\n",
    "H = 0.0\n",
    "for c in f.read():\n",
    "    char = c.upper() if c.isalpha() or c.isdigit() else '.'\n",
    "    if c == ' ':\n",
    "        char = ' '\n",
    "    if char in p_i:\n",
    "        p_i[char] += 1.0\n",
    "    else:\n",
    "        p_i[char] = 1.0  \n",
    "    summ += 1.0\n",
    "\n",
    "for i in p_i:\n",
    "    p_i[i] = p_i[i]/summ\n",
    "    h_i[i] = math.log2(1/p_i[i])\n",
    "    H -= p_i[i] * math.log2(p_i[i])\n",
    "    \n",
    "print_answer(p_i, h_i, H)"
   ]
  }
 ],
 "metadata": {
  "kernelspec": {
   "display_name": "Python 3",
   "language": "python",
   "name": "python3"
  },
  "language_info": {
   "codemirror_mode": {
    "name": "ipython",
    "version": 3
   },
   "file_extension": ".py",
   "mimetype": "text/x-python",
   "name": "python",
   "nbconvert_exporter": "python",
   "pygments_lexer": "ipython3",
   "version": "3.6.5"
  }
 },
 "nbformat": 4,
 "nbformat_minor": 2
}
