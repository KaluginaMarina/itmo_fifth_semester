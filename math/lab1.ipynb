{
 "cells": [
  {
   "cell_type": "markdown",
   "metadata": {},
   "source": [
    "# Вычисление энтропии Шеннона\n",
    "\n",
    "$$ H(x_i) = log(\\frac{1}{p(x_i)}) $$\n",
    "\n",
    "$$ H(X) = -\\sum p(x_i) log(p(x_i)) $$\n"
   ]
  },
  {
   "cell_type": "code",
   "execution_count": 43,
   "metadata": {},
   "outputs": [],
   "source": [
    "import math"
   ]
  },
  {
   "cell_type": "code",
   "execution_count": 110,
   "metadata": {},
   "outputs": [
    {
     "name": "stdout",
     "output_type": "stream",
     "text": [
      "\\begin{tabular}{ | l | l | l | }\n",
      "\\hline\n",
      "Символ:  &  Вероятность:  &  Энтропия: \\\\ \\hline\n",
      ". & 0.0548 & 4.1895 \\\\\n",
      "A & 0.0609 & 4.0366 \\\\\n",
      "T & 0.0724 & 3.7876 \\\\\n",
      "  & 0.1778 & 2.4913 \\\\\n",
      "H & 0.0534 & 4.2259 \\\\\n",
      "E & 0.1010 & 3.3071 \\\\\n",
      "N & 0.0518 & 4.2698 \\\\\n",
      "D & 0.0326 & 4.9385 \\\\\n",
      "O & 0.0603 & 4.0524 \\\\\n",
      "F & 0.0143 & 6.1322 \\\\\n",
      "L & 0.0311 & 5.0071 \\\\\n",
      "P & 0.0145 & 6.1086 \\\\\n",
      "S & 0.0473 & 4.4035 \\\\\n",
      "R & 0.0419 & 4.5778 \\\\\n",
      "C & 0.0141 & 6.1496 \\\\\n",
      "V & 0.0056 & 7.4715 \\\\\n",
      "W & 0.0244 & 5.3560 \\\\\n",
      "I & 0.0490 & 4.3523 \\\\\n",
      "M & 0.0171 & 5.8703 \\\\\n",
      "U & 0.0197 & 5.6657 \\\\\n",
      "B & 0.0113 & 6.4688 \\\\\n",
      "Y & 0.0172 & 5.8631 \\\\\n",
      "G & 0.0156 & 6.0002 \\\\\n",
      "K & 0.0083 & 6.9086 \\\\\n",
      "Z & 0.0004 & 11.1940 \\\\\n",
      "J & 0.0006 & 10.6090 \\\\\n",
      "Q & 0.0004 & 11.1236 \\\\\n",
      "X & 0.0010 & 9.9012 \\\\\n",
      "4 & 0.0002 & 12.5159 \\\\\n",
      "1 & 0.0002 & 12.1940 \\\\\n",
      "9 & 0.0001 & 12.9310 \\\\\n",
      "8 & 0.0000 & 14.5159 \\\\\n",
      "5 & 0.0001 & 12.7086 \\\\\n",
      "3 & 0.0000 & 15.5159 \\\\\n",
      "0 & 0.0001 & 12.9310 \\\\\n",
      "7 & 0.0001 & 13.9310 \\\\\n",
      "2 & 0.0000 & 14.5159 \\\\\n",
      "\\hline \n",
      " \\end{tabular}\n"
     ]
    }
   ],
   "source": [
    "def print_answer(filename, p_i, h_i, H):\n",
    "    print(f'\\nФайл: {filename}')\n",
    "    print(f'Значение энтропии:{H}\\n')\n",
    "    print('Символ:    Вероятность:    Энтропия:')\n",
    "    for i in p_i:\n",
    "        print(f'{i:4.4} {p_i[i]:13.4f} {h_i[i]:14.4f}')\n",
    "\n",
    "def print_answer_latex(filename, p_i, h_i, H):\n",
    "    print('\\\\begin{tabular}{ | l | l | l | }\\n\\\\hline')\n",
    "    print('Символ:  &  Вероятность:  &  Энтропия: \\\\\\\\ \\hline')\n",
    "    for i in p_i:\n",
    "        print(f'{i} & {p_i[i]:.4f} & {h_i[i]:.4f} \\\\\\\\')\n",
    "    print(\"\\\\hline \\n \\\\end{tabular}\")\n",
    "    \n",
    "print_answer_latex(filename, p_i, h_i, H)"
   ]
  },
  {
   "cell_type": "code",
   "execution_count": 105,
   "metadata": {},
   "outputs": [
    {
     "name": "stdout",
     "output_type": "stream",
     "text": [
      "Введите имя файла:\n",
      "\n",
      "Файл: ./input/1984_500.txt\n",
      "Значение энтропии:4.159818250934577\n",
      "\n",
      "Символ:    Вероятность:    Энтропия:\n",
      ".           0.0548         4.1895\n",
      "A           0.0609         4.0366\n",
      "T           0.0724         3.7876\n",
      "            0.1778         2.4913\n",
      "H           0.0534         4.2259\n",
      "E           0.1010         3.3071\n",
      "N           0.0518         4.2698\n",
      "D           0.0326         4.9385\n",
      "O           0.0603         4.0524\n",
      "F           0.0143         6.1322\n",
      "L           0.0311         5.0071\n",
      "P           0.0145         6.1086\n",
      "S           0.0473         4.4035\n",
      "R           0.0419         4.5778\n",
      "C           0.0141         6.1496\n",
      "V           0.0056         7.4715\n",
      "W           0.0244         5.3560\n",
      "I           0.0490         4.3523\n",
      "M           0.0171         5.8703\n",
      "U           0.0197         5.6657\n",
      "B           0.0113         6.4688\n",
      "Y           0.0172         5.8631\n",
      "G           0.0156         6.0002\n",
      "K           0.0083         6.9086\n",
      "Z           0.0004        11.1940\n",
      "J           0.0006        10.6090\n",
      "Q           0.0004        11.1236\n",
      "X           0.0010         9.9012\n",
      "4           0.0002        12.5159\n",
      "1           0.0002        12.1940\n",
      "9           0.0001        12.9310\n",
      "8           0.0000        14.5159\n",
      "5           0.0001        12.7086\n",
      "3           0.0000        15.5159\n",
      "0           0.0001        12.9310\n",
      "7           0.0001        13.9310\n",
      "2           0.0000        14.5159\n"
     ]
    }
   ],
   "source": [
    "print(\"Введите имя файла:\")\n",
    "filename = \"./input/1984_500.txt\"\n",
    "# filename = input()\n",
    "f = open(filename)\n",
    "p_i = {}\n",
    "h_i = {}\n",
    "summ = 0.0\n",
    "H = 0.0\n",
    "for c in f.read():\n",
    "    char = c.upper() if c.isalpha() or c.isdigit() else '.'\n",
    "    if c == ' ':\n",
    "        char = ' '\n",
    "    if char in p_i:\n",
    "        p_i[char] += 1.0\n",
    "    else:\n",
    "        p_i[char] = 1.0  \n",
    "    summ += 1.0\n",
    "\n",
    "for i in p_i:\n",
    "    p_i[i] = p_i[i]/summ\n",
    "    h_i[i] = math.log2(1/p_i[i])\n",
    "    H -= p_i[i] * math.log2(p_i[i])\n",
    "    \n",
    "print_answer(filename, p_i, h_i, H)"
   ]
  }
 ],
 "metadata": {
  "kernelspec": {
   "display_name": "Python 3",
   "language": "python",
   "name": "python3"
  },
  "language_info": {
   "codemirror_mode": {
    "name": "ipython",
    "version": 3
   },
   "file_extension": ".py",
   "mimetype": "text/x-python",
   "name": "python",
   "nbconvert_exporter": "python",
   "pygments_lexer": "ipython3",
   "version": "3.6.5"
  }
 },
 "nbformat": 4,
 "nbformat_minor": 2
}
