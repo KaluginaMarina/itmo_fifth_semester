{
 "cells": [
  {
   "cell_type": "code",
   "execution_count": 24,
   "metadata": {},
   "outputs": [
    {
     "name": "stdout",
     "output_type": "stream",
     "text": [
      "P True\n",
      "O True\n",
      "S True\n",
      "I True\n",
      "T True\n",
      "N True\n",
      "\n",
      " False\n",
      "A True\n",
      "B True\n",
      "U True\n",
      "  False\n",
      "H True\n",
      "E True\n",
      "D True\n",
      "R True\n",
      "M True\n",
      "F True\n",
      "C True\n",
      "G True\n",
      "1 False\n",
      ". False\n",
      "L True\n",
      "V True\n",
      "3 False\n",
      "2 False\n",
      "K True\n",
      "8 False\n",
      "4 False\n",
      "Y True\n",
      "0 False\n",
      "5 False\n",
      "Z True\n",
      "( False\n",
      ") False\n",
      "W True\n",
      ", False\n",
      "\" False\n",
      "Q True\n",
      "- False\n",
      "/ False\n",
      "7 False\n",
      "“ False\n",
      "” False\n",
      "J True\n",
      "9 False\n",
      ": False\n",
      "; False\n",
      "X True\n",
      "6 False\n",
      "• False\n",
      "Ф True\n",
      "З True\n",
      "% False\n",
      "’ False\n",
      "+ False\n",
      "@ False\n"
     ]
    }
   ],
   "source": [
    "# print(\"Введите имя файла\")\n",
    "# filename = input()\n",
    "# f = open(filename)\n",
    "\n",
    "f = open(\"./input/itmo.txt\")\n",
    "arr = {}\n",
    "for c in f.read():\n",
    "    char = c.upper()\n",
    "    if char in arr:\n",
    "        arr[char] += 1\n",
    "    else:\n",
    "        arr[char] = 0        \n",
    "\n",
    "for i in arr:\n",
    "    print(f'{i} {i.isalpha()}')"
   ]
  }
 ],
 "metadata": {
  "kernelspec": {
   "display_name": "Python 3",
   "language": "python",
   "name": "python3"
  },
  "language_info": {
   "codemirror_mode": {
    "name": "ipython",
    "version": 3
   },
   "file_extension": ".py",
   "mimetype": "text/x-python",
   "name": "python",
   "nbconvert_exporter": "python",
   "pygments_lexer": "ipython3",
   "version": "3.6.5"
  }
 },
 "nbformat": 4,
 "nbformat_minor": 2
}
