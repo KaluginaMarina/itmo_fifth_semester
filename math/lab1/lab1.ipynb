{
 "cells": [
  {
   "cell_type": "markdown",
   "metadata": {},
   "source": [
    "# Вычисление энтропии Шеннона\n",
    "\n",
    "Формулы для задания 1: \n",
    "\n",
    "Энтропия H(x_i):   $ H(x_i) = log(\\frac{1}{p(x_i)}) $\n",
    "\n",
    "Энтропия H(X):   $ H(X) = -\\sum p(x_i) log(p(x_i)) $\n",
    "\n",
    "Формулы для задания 2:\n",
    "\n",
    "Энтропия для пары ($x_i$; $x_j$): $ H^*(x_i) = log ( \\frac{1}{p(x_i/x_j)}) $, где $p(x_i/x_j)$ вероятность встречи пары $x_i x_j$\n",
    "\n",
    "Энтропия H(X): $-\\sum \\sum p(x_i/x_j) p(x_j) H^*(x_i) = -\\sum \\sum p(x_i/x_j) p(x_j) log (p(x_i/x_j))$\n"
   ]
  },
  {
   "cell_type": "code",
   "execution_count": 1,
   "metadata": {},
   "outputs": [],
   "source": [
    "import math"
   ]
  },
  {
   "cell_type": "code",
   "execution_count": 2,
   "metadata": {},
   "outputs": [],
   "source": [
    "def print_answer(filename, p_i, h_i, H):\n",
    "    print(f'\\nФайл: {filename}')\n",
    "    print(f'Значение энтропии:{H:.4f}\\n')\n",
    "    print('Символ:    Вероятность:    Энтропия:')\n",
    "    for i in p_i:\n",
    "        print(f'{i:4.4} {p_i[i]:13.4f} {h_i[i]:14.4f}')\n",
    "\n",
    "def print_answer_latex(filename, p_i, h_i, H):\n",
    "    print('\\\\begin{tabular}{ | l | l | l | }\\n\\\\hline')\n",
    "    print('Символ:  &  Вероятность:  &  Энтропия: \\\\\\\\ \\hline')\n",
    "    for i in p_i:\n",
    "        print(f'{i} & {p_i[i]:.4f} & {h_i[i]:.4f} \\\\\\\\')\n",
    "    print(\"\\\\hline \\n \\\\end{tabular}\")"
   ]
  },
  {
   "cell_type": "code",
   "execution_count": 9,
   "metadata": {},
   "outputs": [
    {
     "name": "stdout",
     "output_type": "stream",
     "text": [
      "Введите имя файла:\n",
      "./input/itmo.txt\n",
      "\n",
      "Файл: ./input/itmo.txt\n",
      "Значение энтропии:4.2830\n",
      "\n",
      "Символ:    Вероятность:    Энтропия:\n",
      "P           0.0178         5.8081\n",
      "O           0.0681         3.8764\n",
      "S           0.0476         4.3926\n",
      "I           0.0720         3.7965\n",
      "T           0.0784         3.6723\n",
      "N           0.0682         3.8746\n",
      ".           0.0766         3.7063\n",
      "A           0.0580         4.1088\n",
      "B           0.0068         7.1946\n",
      "U           0.0206         5.6034\n",
      "            0.1275         2.9712\n",
      "H           0.0284         5.1368\n",
      "E           0.0885         3.4985\n",
      "D           0.0299         5.0640\n",
      "R           0.0519         4.2683\n",
      "M           0.0213         5.5511\n",
      "F           0.0232         5.4268\n",
      "C           0.0293         5.0922\n",
      "G           0.0145         6.1121\n",
      "1           0.0044         7.8226\n",
      "L           0.0252         5.3124\n",
      "V           0.0061         7.3540\n",
      "3           0.0037         8.0769\n",
      "2           0.0042         7.8974\n",
      "K           0.0025         8.6706\n",
      "8           0.0005        10.9926\n",
      "4           0.0017         9.1666\n",
      "Y           0.0090         6.8009\n",
      "0           0.0015         9.3645\n",
      "5           0.0010         9.9284\n",
      "Z           0.0018         9.0944\n",
      "W           0.0058         7.4296\n",
      "Q           0.0009        10.0597\n",
      "7           0.0005        10.9926\n",
      "J           0.0004        11.1301\n",
      "9           0.0004        11.1301\n",
      "X           0.0012         9.6446\n",
      "6           0.0004        11.4520\n",
      "\n",
      "Значение энтропии Н* = 0.4616\n"
     ]
    }
   ],
   "source": [
    "p_i = {}\n",
    "pair_p_i = {}\n",
    "h_i = {}\n",
    "summ = 0.0\n",
    "H = 0.0\n",
    "pair_H = 0.0\n",
    "\n",
    "print(\"Введите имя файла:\")\n",
    "# filename = \"./input/itmo.txt\"\n",
    "try:\n",
    "    filename = input()\n",
    "    f = open(filename)\n",
    "\n",
    "    for c in f.read():\n",
    "        char = c.upper() if c.isalpha() or c.isdigit() else '.'\n",
    "        if c == ' ':\n",
    "            char = ' '\n",
    "        if char in p_i:\n",
    "            p_i[char] += 1.0\n",
    "        else:\n",
    "            p_i[char] = 1.0  \n",
    "        if (summ > 0):\n",
    "            if char_prev + char in pair_p_i:\n",
    "                pair_p_i[char_prev + char] += 1.0\n",
    "            else:\n",
    "                pair_p_i[char_prev + char] = 1.0\n",
    "        char_prev = char\n",
    "        summ += 1.0\n",
    "\n",
    "    task1()\n",
    "    task2()\n",
    "\n",
    "except Exception:\n",
    "    print(\"Файл не найден\")"
   ]
  },
  {
   "cell_type": "code",
   "execution_count": 8,
   "metadata": {},
   "outputs": [],
   "source": [
    "def task1():\n",
    "    global H\n",
    "    for i in p_i:\n",
    "        p_i[i] = p_i[i]/summ\n",
    "        h_i[i] = math.log2(1/p_i[i])\n",
    "        H -= p_i[i] * math.log2(p_i[i])\n",
    "    \n",
    "    print_answer(filename, p_i, h_i, H)\n",
    "    \n",
    "def task2():\n",
    "    global pair_H\n",
    "    for i in pair_p_i:\n",
    "        pair_p_i[i] = pair_p_i[i]/(summ - 1)\n",
    "        pair_H -= pair_p_i[i] * p_i[i[1]] * math.log2(pair_p_i[i])\n",
    "    print(f'\\nЗначение энтропии Н* = {pair_H:.4f}')"
   ]
  }
 ],
 "metadata": {
  "kernelspec": {
   "display_name": "Python 3",
   "language": "python",
   "name": "python3"
  },
  "language_info": {
   "codemirror_mode": {
    "name": "ipython",
    "version": 3
   },
   "file_extension": ".py",
   "mimetype": "text/x-python",
   "name": "python",
   "nbconvert_exporter": "python",
   "pygments_lexer": "ipython3",
   "version": "3.6.5"
  }
 },
 "nbformat": 4,
 "nbformat_minor": 2
}
