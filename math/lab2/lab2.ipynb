{
 "cells": [
  {
   "cell_type": "code",
   "execution_count": 2,
   "metadata": {},
   "outputs": [],
   "source": [
    "import math"
   ]
  },
  {
   "cell_type": "code",
   "execution_count": 16,
   "metadata": {},
   "outputs": [
    {
     "name": "stdout",
     "output_type": "stream",
     "text": [
      "Введите имя файла:\n",
      "0.05572907371051222\n"
     ]
    }
   ],
   "source": [
    "p_i = {}                         # словарь вероятностей встречи символа\n",
    "summ = 0 \n",
    "\n",
    "# чтение с файла \n",
    "print(\"Введите имя файла:\")\n",
    "try:\n",
    "    #filename = input()\n",
    "    filename = \"./input/itmo.txt\"\n",
    "    f = open(filename)\n",
    "\n",
    "    for char in f.read():       # считаем кол-во символов\n",
    "        if char in p_i:\n",
    "            p_i[char] += 1.0\n",
    "        else:\n",
    "            p_i[char] = 1.0  \n",
    "        summ += 1\n",
    "    for i in p_i:               # создаем из этого вероятности\n",
    "        p_i[i] = p_i[i]/summ\n",
    "\n",
    "    Huffman()\n",
    "\n",
    "except Exception:\n",
    "    print(\"Файл не найден\")"
   ]
  },
  {
   "cell_type": "code",
   "execution_count": 14,
   "metadata": {},
   "outputs": [],
   "source": [
    "def Huffman():\n",
    "    "
   ]
  }
 ],
 "metadata": {
  "kernelspec": {
   "display_name": "Python 3",
   "language": "python",
   "name": "python3"
  },
  "language_info": {
   "codemirror_mode": {
    "name": "ipython",
    "version": 3
   },
   "file_extension": ".py",
   "mimetype": "text/x-python",
   "name": "python",
   "nbconvert_exporter": "python",
   "pygments_lexer": "ipython3",
   "version": "3.6.5"
  }
 },
 "nbformat": 4,
 "nbformat_minor": 2
}
