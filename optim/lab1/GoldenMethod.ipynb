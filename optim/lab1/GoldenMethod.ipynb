{
 "cells": [
  {
   "cell_type": "markdown",
   "metadata": {},
   "source": [
    "# Метод золотого сечения и квадратичной интерполяции"
   ]
  },
  {
   "cell_type": "code",
   "execution_count": 56,
   "metadata": {},
   "outputs": [],
   "source": [
    "def calc_f(x):\n",
    "    return 0.25 * x**4 + x**2 - 8 * x + 12 "
   ]
  },
  {
   "cell_type": "code",
   "execution_count": 3,
   "metadata": {},
   "outputs": [],
   "source": [
    "import math\n",
    "import numpy"
   ]
  },
  {
   "cell_type": "markdown",
   "metadata": {},
   "source": [
    "# Метод золотого сечения"
   ]
  },
  {
   "cell_type": "code",
   "execution_count": 10,
   "metadata": {},
   "outputs": [],
   "source": [
    "def method_golden(a, b, eps):\n",
    "    global n\n",
    "    n = n + 1\n",
    "    \n",
    "    if ( abs(a - b) < eps ):\n",
    "        return (a + b)/2.0\n",
    "    \n",
    "    x = a + (1 - 0.68) * abs(a - b)\n",
    "    x1 = a + 0.68 * abs(a - b)\n",
    "    if ( calc_f(x) > calc_f(x1)):\n",
    "        return method_golden(x, b, eps)\n",
    "    else: \n",
    "        return method_golden(a, x1, eps)"
   ]
  },
  {
   "cell_type": "code",
   "execution_count": 47,
   "metadata": {},
   "outputs": [],
   "source": [
    "def validation(a, b,eps):\n",
    "    global n\n",
    "    if (a > b):\n",
    "        print(\"Координата конца больше координаты начала? :С\")\n",
    "        exit(0)\n",
    "    \n",
    "    print (f'\\nИнтервал [{a},{b}], погрешность = {eps}')\n",
    "\n",
    "    print (\"\\nОтвет:\")\n",
    "\n",
    "    ans = method_golden(a, b, eps)\n",
    "    if (ans is None): \n",
    "        print(\"Невозможно расчитать экстремум, возможно, f(x) -- прямая\")\n",
    "        return None\n",
    "    else: \n",
    "        print(f'x = {round(ans, 2)}')\n",
    "        print(f'f(x) = {round(calc_f(ans), 2)}')\n",
    "        print(f'количество итераций: {n}')\n",
    "    return n"
   ]
  },
  {
   "cell_type": "markdown",
   "metadata": {},
   "source": [
    "# Метод квадратичной интерполяции"
   ]
  },
  {
   "cell_type": "code",
   "execution_count": 48,
   "metadata": {},
   "outputs": [],
   "source": [
    "def lagrange(f, x1, x2, x3):\n",
    "    y1 = f(x1)\n",
    "    y2 = f(x2)\n",
    "    y3 = f(x3)\n",
    "    delta = (x2 - x1)*(x3 - x1)*(x3 - x2)\n",
    "    A = ((x3 - x2)*y1 - (x3 - x1)*y2 + (x2 - x1)*y3) / delta\n",
    "    B = (-(x3**2 - x2**2)*y1 + (x3**2 - x1**2)*y2 - (x2**2 - x1**2)*y3) / delta\n",
    "    C = (x2*x3*(x3 - x2)*y1 - x1*x3*(x3 - x1)*y2 + x1*x2*(x2 - x1)*y3) / delta\n",
    "    xmin = -B / (2*A)\n",
    "    ymin = -B**2 / (4*A) + C\n",
    "    return round(xmin, 2), round(ymin, 2)"
   ]
  },
  {
   "cell_type": "markdown",
   "metadata": {},
   "source": [
    "# Ввод данных"
   ]
  },
  {
   "cell_type": "code",
   "execution_count": 57,
   "metadata": {
    "scrolled": true
   },
   "outputs": [
    {
     "name": "stdout",
     "output_type": "stream",
     "text": [
      "Введите координату начала:\n",
      "0\n",
      "Введите координату конца:\n",
      "2\n",
      "Введите погрешность:\n",
      "0.05\n",
      "\n",
      "Интервал [0.0,2.0], погрешность = 0.05\n",
      "\n",
      "Ответ:\n",
      "x = 1.67\n",
      "f(x) = 3.37\n",
      "количество итераций: 11\n",
      "\n",
      "\n",
      "Результат для квадратичной интерполяции: (1.67, 3.66)\n"
     ]
    }
   ],
   "source": [
    "err = True\n",
    "\n",
    "while (err == True):\n",
    "    try:\n",
    "        print (\"Введите координату начала:\")\n",
    "        a = float(input())\n",
    "        print (\"Введите координату конца:\")\n",
    "        b = float(input())\n",
    "        if (a > b):\n",
    "            print(\"Координата конца больше координаты начала? :С\")\n",
    "            raise Exception(\"\")\n",
    "        print (\"Введите погрешность:\")\n",
    "        eps = float(input())\n",
    "        err = False\n",
    "        n = 0\n",
    "        if (validation(a, b, eps) is None):\n",
    "            raise Exception(\"\")\n",
    "    except Exception:\n",
    "        print(\"Ошибка. Проверьте правильность введенных данных\\n\")\n",
    "        \n",
    "print (f'\\n\\nРезультат для квадратичной интерполяции: {lagrange(calc_f, 0, 1.24, 2)}')"
   ]
  },
  {
   "cell_type": "markdown",
   "metadata": {},
   "source": [
    "# График функции"
   ]
  },
  {
   "cell_type": "code",
   "execution_count": 19,
   "metadata": {},
   "outputs": [
    {
     "data": {
      "image/png": "[encoded data removed]",
      "text/plain": [
       "<Figure size 864x432 with 1 Axes>"
      ]
     },
     "metadata": {},
     "output_type": "display_data"
    }
   ],
   "source": [
    "%matplotlib inline\n",
    "\n",
    "import numpy as np\n",
    "import matplotlib.pyplot as plt\n",
    "\n",
    "x = np.array(np.arange(-1, 3, step=0.1)) \n",
    "y =  calc_f(x)\n",
    "plt.figure(figsize=(12,6))\n",
    "plt.plot(x, y) \n",
    "plt.grid()\n",
    "plt.show()"
   ]
  }
 ],
 "metadata": {
  "kernelspec": {
   "display_name": "Python 3",
   "language": "python",
   "name": "python3"
  },
  "language_info": {
   "codemirror_mode": {
    "name": "ipython",
    "version": 3
   },
   "file_extension": ".py",
   "mimetype": "text/x-python",
   "name": "python",
   "nbconvert_exporter": "python",
   "pygments_lexer": "ipython3",
   "version": "3.6.5"
  }
 },
 "nbformat": 4,
 "nbformat_minor": 2
}
