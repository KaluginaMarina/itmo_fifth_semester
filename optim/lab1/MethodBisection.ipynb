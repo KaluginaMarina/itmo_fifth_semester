{
 "cells": [
  {
   "cell_type": "markdown",
   "metadata": {},
   "source": [
    "# Метод половинного деления"
   ]
  },
  {
   "cell_type": "code",
   "execution_count": 19,
   "metadata": {},
   "outputs": [],
   "source": [
    "def calc_f(x):\n",
    "    return 0.25 * x**4 + x**2 - 8 * x + 12 \n",
    "\n",
    "def calc_f_der(x):\n",
    "    return 0.25 * 4 * x**3 + 2 * x**x - 8"
   ]
  },
  {
   "cell_type": "code",
   "execution_count": 2,
   "metadata": {},
   "outputs": [],
   "source": [
    "import math\n",
    "import numpy"
   ]
  },
  {
   "cell_type": "code",
   "execution_count": 8,
   "metadata": {},
   "outputs": [],
   "source": [
    "def methodBisection(a, b, eps):\n",
    "    global n\n",
    "    n = n + 1\n",
    "    if ( n == 1 ) and ( calc_f(a)/calc_f(b) > 0 ):\n",
    "        return None\n",
    "    \n",
    "    if ( abs(calc_f(a)) < eps ):\n",
    "        return a\n",
    "    if ( abs(calc_f(b)) < eps  ):\n",
    "        return b\n",
    "    if ( abs(calc_f((a + b)/2.0)) < eps ):\n",
    "        return (a + b)/2.0\n",
    "    x = (a + b)/2.0\n",
    "    if ( calc_f(a)/calc_f(x) < 0):\n",
    "        return methodBisection(a, x, eps)\n",
    "    else: \n",
    "        return methodBisection(x, b, eps)"
   ]
  },
  {
   "cell_type": "code",
   "execution_count": 20,
   "metadata": {},
   "outputs": [],
   "source": [
    "def validation(a, b,eps):\n",
    "    global n\n",
    "    if (a > b):\n",
    "        print(\"Координата конца больше координаты начала? :С\")\n",
    "        exit(0)\n",
    "    \n",
    "    print ('\\nИнтервал [', a, ',', b, '], погрешность =', eps)\n",
    "\n",
    "    print (\"\\nОтвет:\")\n",
    "\n",
    "    ans = methodBisection(a, b, eps)\n",
    "    if (ans is None): \n",
    "        print(\"На введенном отрезке экстремума нет. Проверка границ отрезков.\")\n",
    "        if (calc_f(a) > calc_f(b)):\n",
    "            print(f'({a}; {calc_f(a)}) -- локальный максимум\\n ({b}; {calc_f(b)}) -- локальный минимум)')\n",
    "        elif (calc_f(a) < calc_f(b)):\n",
    "            print(f'({b}; {calc_f(b)}) -- локальный максимум\\n ({a}; {calc_f(a)}) -- локальный минимум)')\n",
    "        else:\n",
    "            print(\"f(x) -- прямая\")\n",
    "        return None\n",
    "    else: \n",
    "        print('x =', ans)\n",
    "        print('f(x) =', calc_f(ans))\n",
    "        print('количество итераций:', n)\n",
    "    return n"
   ]
  },
  {
   "cell_type": "markdown",
   "metadata": {},
   "source": [
    "# Ввод данных"
   ]
  },
  {
   "cell_type": "code",
   "execution_count": 21,
   "metadata": {
    "scrolled": true
   },
   "outputs": [
    {
     "name": "stdout",
     "output_type": "stream",
     "text": [
      "Введите координату начала:\n",
      "0\n",
      "Введите координату конца:\n",
      "2\n",
      "Введите погрешность:\n",
      "0.05\n",
      "\n",
      "Интервал [ 0.0 , 2.0 ], погрешность = 0.05\n",
      "\n",
      "Ответ:\n",
      "На введенном отрезке экстремума нет. Проверка границ отрезков.\n",
      "(0.0; 12.0) -- локальный максимум\n",
      " (2.0; 4.0) -- локальный минимум)\n",
      "Ошибка. Проверьте правильность введенных данных\n",
      "\n"
     ]
    }
   ],
   "source": [
    "err = True\n",
    "\n",
    "while (err == True):\n",
    "    try:\n",
    "        print (\"Введите координату начала:\")\n",
    "        a = float(input())\n",
    "        print (\"Введите координату конца:\")\n",
    "        b = float(input())\n",
    "        if (a > b):\n",
    "            print(\"Координата конца больше координаты начала? :С\")\n",
    "            raise Exception(\"\")\n",
    "        print (\"Введите погрешность:\")\n",
    "        eps = float(input())\n",
    "        err = False\n",
    "        n = 0\n",
    "        if (validation(a, b, eps) is None):\n",
    "            raise Exception(\"\")\n",
    "    except Exception:\n",
    "        print(\"Ошибка. Проверьте правильность введенных данных\\n\")"
   ]
  },
  {
   "cell_type": "markdown",
   "metadata": {},
   "source": [
    "# График функции"
   ]
  },
  {
   "cell_type": "code",
   "execution_count": 6,
   "metadata": {},
   "outputs": [
    {
     "data": {
      "image/png": "[encoded data removed]",
      "text/plain": [
       "<Figure size 864x432 with 1 Axes>"
      ]
     },
     "metadata": {},
     "output_type": "display_data"
    }
   ],
   "source": [
    "%matplotlib inline\n",
    "\n",
    "import numpy as np\n",
    "import matplotlib.pyplot as plt\n",
    "\n",
    "x = np.array(np.arange(-4.5, 2, step=0.1)) \n",
    "y =  calc_f(x)\n",
    "plt.figure(figsize=(12,6))\n",
    "plt.plot(x, y) \n",
    "plt.grid()\n",
    "plt.show()"
   ]
  }
 ],
 "metadata": {
  "kernelspec": {
   "display_name": "Python 3",
   "language": "python",
   "name": "python3"
  },
  "language_info": {
   "codemirror_mode": {
    "name": "ipython",
    "version": 3
   },
   "file_extension": ".py",
   "mimetype": "text/x-python",
   "name": "python",
   "nbconvert_exporter": "python",
   "pygments_lexer": "ipython3",
   "version": "3.6.5"
  }
 },
 "nbformat": 4,
 "nbformat_minor": 2
}
